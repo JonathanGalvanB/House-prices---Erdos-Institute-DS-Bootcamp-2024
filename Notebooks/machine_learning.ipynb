{
 "cells": [
  {
   "cell_type": "code",
   "execution_count": 687,
   "metadata": {},
   "outputs": [],
   "source": [
    "import pandas as pd\n",
    "import numpy as np\n",
    "import seaborn as sns\n"
   ]
  },
  {
   "cell_type": "code",
   "execution_count": 688,
   "metadata": {},
   "outputs": [],
   "source": [
    "houses_train = pd.read_csv('../data/processed_data.csv',keep_default_na=False)\n",
    "#houses_test = pd.read_csv('../data/cleaned_test_data.csv',keep_default_na=False)"
   ]
  },
  {
   "cell_type": "code",
   "execution_count": 689,
   "metadata": {},
   "outputs": [
    {
     "data": {
      "text/html": [
       "<div>\n",
       "<style scoped>\n",
       "    .dataframe tbody tr th:only-of-type {\n",
       "        vertical-align: middle;\n",
       "    }\n",
       "\n",
       "    .dataframe tbody tr th {\n",
       "        vertical-align: top;\n",
       "    }\n",
       "\n",
       "    .dataframe thead th {\n",
       "        text-align: right;\n",
       "    }\n",
       "</style>\n",
       "<table border=\"1\" class=\"dataframe\">\n",
       "  <thead>\n",
       "    <tr style=\"text-align: right;\">\n",
       "      <th></th>\n",
       "      <th>MSSubClass</th>\n",
       "      <th>LotFrontage</th>\n",
       "      <th>LotArea</th>\n",
       "      <th>Street</th>\n",
       "      <th>Utilities</th>\n",
       "      <th>YearBuilt</th>\n",
       "      <th>YearRemodAdd</th>\n",
       "      <th>MasVnrArea</th>\n",
       "      <th>BsmtExposure</th>\n",
       "      <th>BsmtUnfSF</th>\n",
       "      <th>...</th>\n",
       "      <th>Exter_Rating</th>\n",
       "      <th>Bsmt_rating</th>\n",
       "      <th>Basement_bathrooms</th>\n",
       "      <th>Aboveground_bathrooms</th>\n",
       "      <th>Kitchen_Rating</th>\n",
       "      <th>Fireplace_Rating</th>\n",
       "      <th>Total_Condtion</th>\n",
       "      <th>BsmtFinType1_rating</th>\n",
       "      <th>BsmtFinType2_rating</th>\n",
       "      <th>Bsmt_total_SF_rating</th>\n",
       "    </tr>\n",
       "  </thead>\n",
       "  <tbody>\n",
       "    <tr>\n",
       "      <th>0</th>\n",
       "      <td>60</td>\n",
       "      <td>0.150685</td>\n",
       "      <td>0.033420</td>\n",
       "      <td>1.0</td>\n",
       "      <td>1.0</td>\n",
       "      <td>0.949275</td>\n",
       "      <td>0.883333</td>\n",
       "      <td>0.12250</td>\n",
       "      <td>0.25</td>\n",
       "      <td>0.064212</td>\n",
       "      <td>...</td>\n",
       "      <td>1.166667</td>\n",
       "      <td>1.55</td>\n",
       "      <td>0.333333</td>\n",
       "      <td>0.916667</td>\n",
       "      <td>0.222222</td>\n",
       "      <td>0.000000</td>\n",
       "      <td>2.0</td>\n",
       "      <td>0.125089</td>\n",
       "      <td>0.0</td>\n",
       "      <td>0.125089</td>\n",
       "    </tr>\n",
       "    <tr>\n",
       "      <th>1</th>\n",
       "      <td>20</td>\n",
       "      <td>0.202055</td>\n",
       "      <td>0.038795</td>\n",
       "      <td>1.0</td>\n",
       "      <td>1.0</td>\n",
       "      <td>0.753623</td>\n",
       "      <td>0.433333</td>\n",
       "      <td>0.00000</td>\n",
       "      <td>1.00</td>\n",
       "      <td>0.121575</td>\n",
       "      <td>...</td>\n",
       "      <td>0.833333</td>\n",
       "      <td>1.55</td>\n",
       "      <td>0.250000</td>\n",
       "      <td>0.666667</td>\n",
       "      <td>0.111111</td>\n",
       "      <td>0.200000</td>\n",
       "      <td>2.0</td>\n",
       "      <td>0.144401</td>\n",
       "      <td>0.0</td>\n",
       "      <td>0.144401</td>\n",
       "    </tr>\n",
       "    <tr>\n",
       "      <th>2</th>\n",
       "      <td>60</td>\n",
       "      <td>0.160959</td>\n",
       "      <td>0.046507</td>\n",
       "      <td>1.0</td>\n",
       "      <td>1.0</td>\n",
       "      <td>0.934783</td>\n",
       "      <td>0.866667</td>\n",
       "      <td>0.10125</td>\n",
       "      <td>0.50</td>\n",
       "      <td>0.185788</td>\n",
       "      <td>...</td>\n",
       "      <td>1.166667</td>\n",
       "      <td>1.55</td>\n",
       "      <td>0.333333</td>\n",
       "      <td>0.916667</td>\n",
       "      <td>0.222222</td>\n",
       "      <td>0.200000</td>\n",
       "      <td>2.0</td>\n",
       "      <td>0.086109</td>\n",
       "      <td>0.0</td>\n",
       "      <td>0.086109</td>\n",
       "    </tr>\n",
       "    <tr>\n",
       "      <th>3</th>\n",
       "      <td>70</td>\n",
       "      <td>0.133562</td>\n",
       "      <td>0.038561</td>\n",
       "      <td>1.0</td>\n",
       "      <td>1.0</td>\n",
       "      <td>0.311594</td>\n",
       "      <td>0.333333</td>\n",
       "      <td>0.00000</td>\n",
       "      <td>0.25</td>\n",
       "      <td>0.231164</td>\n",
       "      <td>...</td>\n",
       "      <td>0.833333</td>\n",
       "      <td>1.60</td>\n",
       "      <td>0.333333</td>\n",
       "      <td>0.333333</td>\n",
       "      <td>0.222222</td>\n",
       "      <td>0.266667</td>\n",
       "      <td>2.0</td>\n",
       "      <td>0.031892</td>\n",
       "      <td>0.0</td>\n",
       "      <td>0.031892</td>\n",
       "    </tr>\n",
       "    <tr>\n",
       "      <th>4</th>\n",
       "      <td>60</td>\n",
       "      <td>0.215753</td>\n",
       "      <td>0.060576</td>\n",
       "      <td>1.0</td>\n",
       "      <td>1.0</td>\n",
       "      <td>0.927536</td>\n",
       "      <td>0.833333</td>\n",
       "      <td>0.21875</td>\n",
       "      <td>0.75</td>\n",
       "      <td>0.209760</td>\n",
       "      <td>...</td>\n",
       "      <td>1.166667</td>\n",
       "      <td>1.55</td>\n",
       "      <td>0.333333</td>\n",
       "      <td>0.916667</td>\n",
       "      <td>0.222222</td>\n",
       "      <td>0.200000</td>\n",
       "      <td>2.0</td>\n",
       "      <td>0.116052</td>\n",
       "      <td>0.0</td>\n",
       "      <td>0.116052</td>\n",
       "    </tr>\n",
       "  </tbody>\n",
       "</table>\n",
       "<p>5 rows × 129 columns</p>\n",
       "</div>"
      ],
      "text/plain": [
       "   MSSubClass  LotFrontage   LotArea  Street  Utilities  YearBuilt  \\\n",
       "0          60     0.150685  0.033420     1.0        1.0   0.949275   \n",
       "1          20     0.202055  0.038795     1.0        1.0   0.753623   \n",
       "2          60     0.160959  0.046507     1.0        1.0   0.934783   \n",
       "3          70     0.133562  0.038561     1.0        1.0   0.311594   \n",
       "4          60     0.215753  0.060576     1.0        1.0   0.927536   \n",
       "\n",
       "   YearRemodAdd  MasVnrArea  BsmtExposure  BsmtUnfSF  ...  Exter_Rating  \\\n",
       "0      0.883333     0.12250          0.25   0.064212  ...      1.166667   \n",
       "1      0.433333     0.00000          1.00   0.121575  ...      0.833333   \n",
       "2      0.866667     0.10125          0.50   0.185788  ...      1.166667   \n",
       "3      0.333333     0.00000          0.25   0.231164  ...      0.833333   \n",
       "4      0.833333     0.21875          0.75   0.209760  ...      1.166667   \n",
       "\n",
       "   Bsmt_rating  Basement_bathrooms  Aboveground_bathrooms  Kitchen_Rating  \\\n",
       "0         1.55            0.333333               0.916667        0.222222   \n",
       "1         1.55            0.250000               0.666667        0.111111   \n",
       "2         1.55            0.333333               0.916667        0.222222   \n",
       "3         1.60            0.333333               0.333333        0.222222   \n",
       "4         1.55            0.333333               0.916667        0.222222   \n",
       "\n",
       "   Fireplace_Rating  Total_Condtion  BsmtFinType1_rating  BsmtFinType2_rating  \\\n",
       "0          0.000000             2.0             0.125089                  0.0   \n",
       "1          0.200000             2.0             0.144401                  0.0   \n",
       "2          0.200000             2.0             0.086109                  0.0   \n",
       "3          0.266667             2.0             0.031892                  0.0   \n",
       "4          0.200000             2.0             0.116052                  0.0   \n",
       "\n",
       "   Bsmt_total_SF_rating  \n",
       "0              0.125089  \n",
       "1              0.144401  \n",
       "2              0.086109  \n",
       "3              0.031892  \n",
       "4              0.116052  \n",
       "\n",
       "[5 rows x 129 columns]"
      ]
     },
     "execution_count": 689,
     "metadata": {},
     "output_type": "execute_result"
    }
   ],
   "source": [
    "houses_train.head()"
   ]
  },
  {
   "cell_type": "code",
   "execution_count": 690,
   "metadata": {},
   "outputs": [],
   "source": [
    "from sklearn.ensemble import RandomForestRegressor\n",
    "from sklearn.metrics import mean_squared_error\n",
    "from sklearn.model_selection import train_test_split\n",
    "from sklearn.metrics import r2_score"
   ]
  },
  {
   "cell_type": "code",
   "execution_count": 691,
   "metadata": {},
   "outputs": [],
   "source": [
    "X = houses_train.drop(['SalePrice'],axis=1)\n",
    "y = np.log10(houses_train['SalePrice'])"
   ]
  },
  {
   "cell_type": "code",
   "execution_count": 692,
   "metadata": {},
   "outputs": [],
   "source": [
    "X_train, X_val, y_train, y_val = train_test_split(X.copy(), y.copy(),\n",
    "                                                                 shuffle = True,\n",
    "                                                                 random_state = 321,\n",
    "                                                                 test_size=.25)"
   ]
  },
  {
   "cell_type": "code",
   "execution_count": 693,
   "metadata": {},
   "outputs": [],
   "source": [
    "number_of_models = 5\n",
    "model_dict = {}\n",
    "metrics = ['mse', 'r2_score']\n"
   ]
  },
  {
   "cell_type": "code",
   "execution_count": 694,
   "metadata": {},
   "outputs": [
    {
     "data": {
      "text/plain": [
       "0.0035728399395999412"
      ]
     },
     "metadata": {},
     "output_type": "display_data"
    },
    {
     "data": {
      "text/plain": [
       "0.8677733128555142"
      ]
     },
     "metadata": {},
     "output_type": "display_data"
    }
   ],
   "source": [
    "model = RandomForestRegressor(n_estimators=100, random_state=0)\n",
    "model.fit(X_train,y_train)\n",
    "A = model.predict(X_val)\n",
    "\n",
    "display(mean_squared_error(y_val,A))\n",
    "display(r2_score(y_val,A))\n",
    "model_dict['Random_forest'] = [mean_squared_error(y_val,A),r2_score(y_val,A)]"
   ]
  },
  {
   "cell_type": "code",
   "execution_count": 695,
   "metadata": {},
   "outputs": [
    {
     "data": {
      "text/plain": [
       "0.003409051056658917"
      ]
     },
     "metadata": {},
     "output_type": "display_data"
    },
    {
     "data": {
      "text/plain": [
       "0.8738349505858662"
      ]
     },
     "metadata": {},
     "output_type": "display_data"
    }
   ],
   "source": [
    "import xgboost\n",
    "\n",
    "xgb_reg = xgboost.XGBRegressor(n_estimators=100,\n",
    "                          max_depth=3,\n",
    "                          learning_rate=.1)\n",
    "\n",
    "\n",
    "xgb_reg.fit(X_train, y_train)\n",
    "\n",
    "B = xgb_reg.predict(X_val)\n",
    "\n",
    "display(mean_squared_error(y_val,B))\n",
    "display(r2_score(y_val,B))\n",
    "model_dict['XGBoost'] = [mean_squared_error(y_val,B),r2_score(y_val,B)]"
   ]
  },
  {
   "cell_type": "code",
   "execution_count": 696,
   "metadata": {},
   "outputs": [
    {
     "data": {
      "text/plain": [
       "<Axes: >"
      ]
     },
     "execution_count": 696,
     "metadata": {},
     "output_type": "execute_result"
    },
    {
     "data": {
      "image/png": "[encoded data removed]",
      "text/plain": [
       "<Figure size 2000x1000 with 1 Axes>"
      ]
     },
     "metadata": {},
     "output_type": "display_data"
    }
   ],
   "source": [
    "dic = xgb_reg.get_booster().get_score(importance_type='weight')\n",
    "keys = list(dic.keys())\n",
    "values = list(dic.values())\n",
    "\n",
    "data = pd.DataFrame(data=values, index=keys, columns=[\"score\"]).sort_values(by = \"score\", ascending=False)\n",
    "data.nlargest(40, columns=\"score\").plot(kind='barh', figsize = (20,10)) ## plot top 40 features\n",
    "\n",
    "\n"
   ]
  },
  {
   "cell_type": "code",
   "execution_count": 697,
   "metadata": {},
   "outputs": [
    {
     "data": {
      "text/plain": [
       "0.004212802187763748"
      ]
     },
     "metadata": {},
     "output_type": "display_data"
    },
    {
     "data": {
      "text/plain": [
       "0.8440890478442715"
      ]
     },
     "metadata": {},
     "output_type": "display_data"
    }
   ],
   "source": [
    "from sklearn.linear_model import LinearRegression\n",
    "\n",
    "lm = LinearRegression()\n",
    "\n",
    "lm.fit(X_train,y_train)\n",
    "\n",
    "C= lm.predict(X_val)\n",
    "\n",
    "display(mean_squared_error(y_val,C))\n",
    "display(r2_score(y_val,C))\n",
    "model_dict['OLS'] = [mean_squared_error(y_val,C),r2_score(y_val,C)]"
   ]
  },
  {
   "cell_type": "code",
   "execution_count": 698,
   "metadata": {},
   "outputs": [
    {
     "data": {
      "text/plain": [
       "0.008996185450822444"
      ]
     },
     "metadata": {},
     "output_type": "display_data"
    },
    {
     "data": {
      "text/plain": [
       "0.6670615478977016"
      ]
     },
     "metadata": {},
     "output_type": "display_data"
    }
   ],
   "source": [
    "from sklearn.linear_model import Lasso \n",
    "\n",
    "lasso_lm = Lasso(alpha=.01)\n",
    "\n",
    "lasso_lm.fit(X_train,y_train)\n",
    "\n",
    "D= lasso_lm.predict(X_val)\n",
    "\n",
    "display(mean_squared_error(y_val,D))\n",
    "display(r2_score(y_val,D))\n",
    "model_dict['Lasso'] = [mean_squared_error(y_val,D),r2_score(y_val,D)]"
   ]
  },
  {
   "cell_type": "code",
   "execution_count": 699,
   "metadata": {},
   "outputs": [],
   "source": [
    "n = 20\n",
    "for i in range(1,n+1):\n",
    "    features_for_reducedmodel = list(data.index[:i]) \n",
    "    X_train_red = X_train[features_for_reducedmodel]\n",
    "    X_val_red = X_val[features_for_reducedmodel]\n",
    "    lm.fit(X_train_red,y_train)\n",
    "    E = lm.predict(X_val_red)\n",
    "    model_dict['OLS_reduced_'+str(i)] = [mean_squared_error(y_val,E),r2_score(y_val,E)]"
   ]
  },
  {
   "cell_type": "code",
   "execution_count": 700,
   "metadata": {},
   "outputs": [],
   "source": [
    "keys = list(model_dict.keys())\n",
    "values = list(model_dict.values())\n",
    "\n",
    "performance = pd.DataFrame(data=values, index=keys, columns=metrics)"
   ]
  },
  {
   "cell_type": "code",
   "execution_count": 701,
   "metadata": {},
   "outputs": [
    {
     "data": {
      "text/html": [
       "<div>\n",
       "<style scoped>\n",
       "    .dataframe tbody tr th:only-of-type {\n",
       "        vertical-align: middle;\n",
       "    }\n",
       "\n",
       "    .dataframe tbody tr th {\n",
       "        vertical-align: top;\n",
       "    }\n",
       "\n",
       "    .dataframe thead th {\n",
       "        text-align: right;\n",
       "    }\n",
       "</style>\n",
       "<table border=\"1\" class=\"dataframe\">\n",
       "  <thead>\n",
       "    <tr style=\"text-align: right;\">\n",
       "      <th></th>\n",
       "      <th>mse</th>\n",
       "      <th>r2_score</th>\n",
       "    </tr>\n",
       "  </thead>\n",
       "  <tbody>\n",
       "    <tr>\n",
       "      <th>Random_forest</th>\n",
       "      <td>0.003573</td>\n",
       "      <td>0.867773</td>\n",
       "    </tr>\n",
       "    <tr>\n",
       "      <th>XGBoost</th>\n",
       "      <td>0.003409</td>\n",
       "      <td>0.873835</td>\n",
       "    </tr>\n",
       "    <tr>\n",
       "      <th>OLS</th>\n",
       "      <td>0.004213</td>\n",
       "      <td>0.844089</td>\n",
       "    </tr>\n",
       "    <tr>\n",
       "      <th>Lasso</th>\n",
       "      <td>0.008996</td>\n",
       "      <td>0.667062</td>\n",
       "    </tr>\n",
       "    <tr>\n",
       "      <th>OLS_reduced_1</th>\n",
       "      <td>0.014243</td>\n",
       "      <td>0.472885</td>\n",
       "    </tr>\n",
       "    <tr>\n",
       "      <th>OLS_reduced_2</th>\n",
       "      <td>0.010876</td>\n",
       "      <td>0.597478</td>\n",
       "    </tr>\n",
       "    <tr>\n",
       "      <th>OLS_reduced_3</th>\n",
       "      <td>0.010606</td>\n",
       "      <td>0.607470</td>\n",
       "    </tr>\n",
       "    <tr>\n",
       "      <th>OLS_reduced_4</th>\n",
       "      <td>0.010576</td>\n",
       "      <td>0.608602</td>\n",
       "    </tr>\n",
       "    <tr>\n",
       "      <th>OLS_reduced_5</th>\n",
       "      <td>0.006729</td>\n",
       "      <td>0.750952</td>\n",
       "    </tr>\n",
       "    <tr>\n",
       "      <th>OLS_reduced_6</th>\n",
       "      <td>0.006256</td>\n",
       "      <td>0.768477</td>\n",
       "    </tr>\n",
       "    <tr>\n",
       "      <th>OLS_reduced_7</th>\n",
       "      <td>0.005298</td>\n",
       "      <td>0.803939</td>\n",
       "    </tr>\n",
       "    <tr>\n",
       "      <th>OLS_reduced_8</th>\n",
       "      <td>0.005149</td>\n",
       "      <td>0.809426</td>\n",
       "    </tr>\n",
       "    <tr>\n",
       "      <th>OLS_reduced_9</th>\n",
       "      <td>0.005249</td>\n",
       "      <td>0.805730</td>\n",
       "    </tr>\n",
       "    <tr>\n",
       "      <th>OLS_reduced_10</th>\n",
       "      <td>0.005109</td>\n",
       "      <td>0.810923</td>\n",
       "    </tr>\n",
       "    <tr>\n",
       "      <th>OLS_reduced_11</th>\n",
       "      <td>0.005106</td>\n",
       "      <td>0.811031</td>\n",
       "    </tr>\n",
       "    <tr>\n",
       "      <th>OLS_reduced_12</th>\n",
       "      <td>0.004844</td>\n",
       "      <td>0.820713</td>\n",
       "    </tr>\n",
       "    <tr>\n",
       "      <th>OLS_reduced_13</th>\n",
       "      <td>0.004794</td>\n",
       "      <td>0.822566</td>\n",
       "    </tr>\n",
       "    <tr>\n",
       "      <th>OLS_reduced_14</th>\n",
       "      <td>0.004737</td>\n",
       "      <td>0.824694</td>\n",
       "    </tr>\n",
       "    <tr>\n",
       "      <th>OLS_reduced_15</th>\n",
       "      <td>0.004701</td>\n",
       "      <td>0.826009</td>\n",
       "    </tr>\n",
       "    <tr>\n",
       "      <th>OLS_reduced_16</th>\n",
       "      <td>0.004700</td>\n",
       "      <td>0.826051</td>\n",
       "    </tr>\n",
       "    <tr>\n",
       "      <th>OLS_reduced_17</th>\n",
       "      <td>0.004658</td>\n",
       "      <td>0.827595</td>\n",
       "    </tr>\n",
       "    <tr>\n",
       "      <th>OLS_reduced_18</th>\n",
       "      <td>0.004189</td>\n",
       "      <td>0.844952</td>\n",
       "    </tr>\n",
       "    <tr>\n",
       "      <th>OLS_reduced_19</th>\n",
       "      <td>0.004178</td>\n",
       "      <td>0.845364</td>\n",
       "    </tr>\n",
       "    <tr>\n",
       "      <th>OLS_reduced_20</th>\n",
       "      <td>0.004164</td>\n",
       "      <td>0.845879</td>\n",
       "    </tr>\n",
       "  </tbody>\n",
       "</table>\n",
       "</div>"
      ],
      "text/plain": [
       "                     mse  r2_score\n",
       "Random_forest   0.003573  0.867773\n",
       "XGBoost         0.003409  0.873835\n",
       "OLS             0.004213  0.844089\n",
       "Lasso           0.008996  0.667062\n",
       "OLS_reduced_1   0.014243  0.472885\n",
       "OLS_reduced_2   0.010876  0.597478\n",
       "OLS_reduced_3   0.010606  0.607470\n",
       "OLS_reduced_4   0.010576  0.608602\n",
       "OLS_reduced_5   0.006729  0.750952\n",
       "OLS_reduced_6   0.006256  0.768477\n",
       "OLS_reduced_7   0.005298  0.803939\n",
       "OLS_reduced_8   0.005149  0.809426\n",
       "OLS_reduced_9   0.005249  0.805730\n",
       "OLS_reduced_10  0.005109  0.810923\n",
       "OLS_reduced_11  0.005106  0.811031\n",
       "OLS_reduced_12  0.004844  0.820713\n",
       "OLS_reduced_13  0.004794  0.822566\n",
       "OLS_reduced_14  0.004737  0.824694\n",
       "OLS_reduced_15  0.004701  0.826009\n",
       "OLS_reduced_16  0.004700  0.826051\n",
       "OLS_reduced_17  0.004658  0.827595\n",
       "OLS_reduced_18  0.004189  0.844952\n",
       "OLS_reduced_19  0.004178  0.845364\n",
       "OLS_reduced_20  0.004164  0.845879"
      ]
     },
     "execution_count": 701,
     "metadata": {},
     "output_type": "execute_result"
    }
   ],
   "source": [
    "performance"
   ]
  },
  {
   "cell_type": "code",
   "execution_count": null,
   "metadata": {},
   "outputs": [],
   "source": []
  },
  {
   "cell_type": "code",
   "execution_count": null,
   "metadata": {},
   "outputs": [],
   "source": []
  }
 ],
 "metadata": {
  "kernelspec": {
   "display_name": "base",
   "language": "python",
   "name": "python3"
  },
  "language_info": {
   "codemirror_mode": {
    "name": "ipython",
    "version": 3
   },
   "file_extension": ".py",
   "mimetype": "text/x-python",
   "name": "python",
   "nbconvert_exporter": "python",
   "pygments_lexer": "ipython3",
   "version": "3.11.5"
  }
 },
 "nbformat": 4,
 "nbformat_minor": 2
}
