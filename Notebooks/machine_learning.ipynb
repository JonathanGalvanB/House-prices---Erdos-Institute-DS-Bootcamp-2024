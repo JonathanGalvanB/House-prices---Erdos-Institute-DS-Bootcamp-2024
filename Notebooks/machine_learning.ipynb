{
 "cells": [
  {
   "cell_type": "code",
   "execution_count": 216,
   "metadata": {},
   "outputs": [],
   "source": [
    "import pandas as pd\n",
    "import numpy as np\n",
    "import seaborn as sns\n"
   ]
  },
  {
   "cell_type": "code",
   "execution_count": 230,
   "metadata": {},
   "outputs": [],
   "source": [
    "houses_train = pd.read_csv('../data/processed_data.csv',keep_default_na=False)\n",
    "#houses_test = pd.read_csv('../data/cleaned_test_data.csv',keep_default_na=False)"
   ]
  },
  {
   "cell_type": "code",
   "execution_count": 231,
   "metadata": {},
   "outputs": [
    {
     "data": {
      "text/html": [
       "<div>\n",
       "<style scoped>\n",
       "    .dataframe tbody tr th:only-of-type {\n",
       "        vertical-align: middle;\n",
       "    }\n",
       "\n",
       "    .dataframe tbody tr th {\n",
       "        vertical-align: top;\n",
       "    }\n",
       "\n",
       "    .dataframe thead th {\n",
       "        text-align: right;\n",
       "    }\n",
       "</style>\n",
       "<table border=\"1\" class=\"dataframe\">\n",
       "  <thead>\n",
       "    <tr style=\"text-align: right;\">\n",
       "      <th></th>\n",
       "      <th>MSSubClass</th>\n",
       "      <th>LotFrontage</th>\n",
       "      <th>LotArea</th>\n",
       "      <th>Street</th>\n",
       "      <th>Utilities</th>\n",
       "      <th>OverallQual</th>\n",
       "      <th>OverallCond</th>\n",
       "      <th>YearBuilt</th>\n",
       "      <th>YearRemodAdd</th>\n",
       "      <th>MasVnrArea</th>\n",
       "      <th>...</th>\n",
       "      <th>SaleType_ConLI</th>\n",
       "      <th>SaleType_ConLw</th>\n",
       "      <th>SaleType_New</th>\n",
       "      <th>SaleType_Oth</th>\n",
       "      <th>SaleType_WD</th>\n",
       "      <th>SaleCondition_AdjLand</th>\n",
       "      <th>SaleCondition_Alloca</th>\n",
       "      <th>SaleCondition_Family</th>\n",
       "      <th>SaleCondition_Normal</th>\n",
       "      <th>SaleCondition_Partial</th>\n",
       "    </tr>\n",
       "  </thead>\n",
       "  <tbody>\n",
       "    <tr>\n",
       "      <th>0</th>\n",
       "      <td>60</td>\n",
       "      <td>0.150685</td>\n",
       "      <td>0.033420</td>\n",
       "      <td>1.0</td>\n",
       "      <td>1.0</td>\n",
       "      <td>0.666667</td>\n",
       "      <td>0.500</td>\n",
       "      <td>0.949275</td>\n",
       "      <td>0.883333</td>\n",
       "      <td>0.12250</td>\n",
       "      <td>...</td>\n",
       "      <td>0.0</td>\n",
       "      <td>0.0</td>\n",
       "      <td>0.0</td>\n",
       "      <td>0.0</td>\n",
       "      <td>1.0</td>\n",
       "      <td>0.0</td>\n",
       "      <td>0.0</td>\n",
       "      <td>0.0</td>\n",
       "      <td>1.0</td>\n",
       "      <td>0.0</td>\n",
       "    </tr>\n",
       "    <tr>\n",
       "      <th>1</th>\n",
       "      <td>20</td>\n",
       "      <td>0.202055</td>\n",
       "      <td>0.038795</td>\n",
       "      <td>1.0</td>\n",
       "      <td>1.0</td>\n",
       "      <td>0.555556</td>\n",
       "      <td>0.875</td>\n",
       "      <td>0.753623</td>\n",
       "      <td>0.433333</td>\n",
       "      <td>0.00000</td>\n",
       "      <td>...</td>\n",
       "      <td>0.0</td>\n",
       "      <td>0.0</td>\n",
       "      <td>0.0</td>\n",
       "      <td>0.0</td>\n",
       "      <td>1.0</td>\n",
       "      <td>0.0</td>\n",
       "      <td>0.0</td>\n",
       "      <td>0.0</td>\n",
       "      <td>1.0</td>\n",
       "      <td>0.0</td>\n",
       "    </tr>\n",
       "    <tr>\n",
       "      <th>2</th>\n",
       "      <td>60</td>\n",
       "      <td>0.160959</td>\n",
       "      <td>0.046507</td>\n",
       "      <td>1.0</td>\n",
       "      <td>1.0</td>\n",
       "      <td>0.666667</td>\n",
       "      <td>0.500</td>\n",
       "      <td>0.934783</td>\n",
       "      <td>0.866667</td>\n",
       "      <td>0.10125</td>\n",
       "      <td>...</td>\n",
       "      <td>0.0</td>\n",
       "      <td>0.0</td>\n",
       "      <td>0.0</td>\n",
       "      <td>0.0</td>\n",
       "      <td>1.0</td>\n",
       "      <td>0.0</td>\n",
       "      <td>0.0</td>\n",
       "      <td>0.0</td>\n",
       "      <td>1.0</td>\n",
       "      <td>0.0</td>\n",
       "    </tr>\n",
       "    <tr>\n",
       "      <th>3</th>\n",
       "      <td>70</td>\n",
       "      <td>0.133562</td>\n",
       "      <td>0.038561</td>\n",
       "      <td>1.0</td>\n",
       "      <td>1.0</td>\n",
       "      <td>0.666667</td>\n",
       "      <td>0.500</td>\n",
       "      <td>0.311594</td>\n",
       "      <td>0.333333</td>\n",
       "      <td>0.00000</td>\n",
       "      <td>...</td>\n",
       "      <td>0.0</td>\n",
       "      <td>0.0</td>\n",
       "      <td>0.0</td>\n",
       "      <td>0.0</td>\n",
       "      <td>1.0</td>\n",
       "      <td>0.0</td>\n",
       "      <td>0.0</td>\n",
       "      <td>0.0</td>\n",
       "      <td>0.0</td>\n",
       "      <td>0.0</td>\n",
       "    </tr>\n",
       "    <tr>\n",
       "      <th>4</th>\n",
       "      <td>60</td>\n",
       "      <td>0.215753</td>\n",
       "      <td>0.060576</td>\n",
       "      <td>1.0</td>\n",
       "      <td>1.0</td>\n",
       "      <td>0.777778</td>\n",
       "      <td>0.500</td>\n",
       "      <td>0.927536</td>\n",
       "      <td>0.833333</td>\n",
       "      <td>0.21875</td>\n",
       "      <td>...</td>\n",
       "      <td>0.0</td>\n",
       "      <td>0.0</td>\n",
       "      <td>0.0</td>\n",
       "      <td>0.0</td>\n",
       "      <td>1.0</td>\n",
       "      <td>0.0</td>\n",
       "      <td>0.0</td>\n",
       "      <td>0.0</td>\n",
       "      <td>1.0</td>\n",
       "      <td>0.0</td>\n",
       "    </tr>\n",
       "  </tbody>\n",
       "</table>\n",
       "<p>5 rows × 212 columns</p>\n",
       "</div>"
      ],
      "text/plain": [
       "   MSSubClass  LotFrontage   LotArea  Street  Utilities  OverallQual  \\\n",
       "0          60     0.150685  0.033420     1.0        1.0     0.666667   \n",
       "1          20     0.202055  0.038795     1.0        1.0     0.555556   \n",
       "2          60     0.160959  0.046507     1.0        1.0     0.666667   \n",
       "3          70     0.133562  0.038561     1.0        1.0     0.666667   \n",
       "4          60     0.215753  0.060576     1.0        1.0     0.777778   \n",
       "\n",
       "   OverallCond  YearBuilt  YearRemodAdd  MasVnrArea  ...  SaleType_ConLI  \\\n",
       "0        0.500   0.949275      0.883333     0.12250  ...             0.0   \n",
       "1        0.875   0.753623      0.433333     0.00000  ...             0.0   \n",
       "2        0.500   0.934783      0.866667     0.10125  ...             0.0   \n",
       "3        0.500   0.311594      0.333333     0.00000  ...             0.0   \n",
       "4        0.500   0.927536      0.833333     0.21875  ...             0.0   \n",
       "\n",
       "   SaleType_ConLw  SaleType_New  SaleType_Oth  SaleType_WD  \\\n",
       "0             0.0           0.0           0.0          1.0   \n",
       "1             0.0           0.0           0.0          1.0   \n",
       "2             0.0           0.0           0.0          1.0   \n",
       "3             0.0           0.0           0.0          1.0   \n",
       "4             0.0           0.0           0.0          1.0   \n",
       "\n",
       "   SaleCondition_AdjLand  SaleCondition_Alloca  SaleCondition_Family  \\\n",
       "0                    0.0                   0.0                   0.0   \n",
       "1                    0.0                   0.0                   0.0   \n",
       "2                    0.0                   0.0                   0.0   \n",
       "3                    0.0                   0.0                   0.0   \n",
       "4                    0.0                   0.0                   0.0   \n",
       "\n",
       "   SaleCondition_Normal  SaleCondition_Partial  \n",
       "0                   1.0                    0.0  \n",
       "1                   1.0                    0.0  \n",
       "2                   1.0                    0.0  \n",
       "3                   0.0                    0.0  \n",
       "4                   1.0                    0.0  \n",
       "\n",
       "[5 rows x 212 columns]"
      ]
     },
     "execution_count": 231,
     "metadata": {},
     "output_type": "execute_result"
    }
   ],
   "source": [
    "houses_train.head()"
   ]
  },
  {
   "cell_type": "code",
   "execution_count": 232,
   "metadata": {},
   "outputs": [],
   "source": [
    "from sklearn.ensemble import RandomForestRegressor\n",
    "from sklearn.metrics import mean_squared_error\n",
    "from sklearn.model_selection import train_test_split"
   ]
  },
  {
   "cell_type": "code",
   "execution_count": 233,
   "metadata": {},
   "outputs": [],
   "source": [
    "X = houses_train.drop(['SalePrice'],axis=1)\n",
    "y = np.log10(houses_train['SalePrice'])"
   ]
  },
  {
   "cell_type": "code",
   "execution_count": 234,
   "metadata": {},
   "outputs": [
    {
     "data": {
      "text/plain": [
       "0       5.319106\n",
       "1       5.258877\n",
       "2       5.349278\n",
       "3       5.146128\n",
       "4       5.397940\n",
       "          ...   \n",
       "1455    5.243038\n",
       "1456    5.322219\n",
       "1457    5.425697\n",
       "1458    5.152670\n",
       "1459    5.168792\n",
       "Name: SalePrice, Length: 1460, dtype: float64"
      ]
     },
     "execution_count": 234,
     "metadata": {},
     "output_type": "execute_result"
    }
   ],
   "source": [
    "y"
   ]
  },
  {
   "cell_type": "code",
   "execution_count": 245,
   "metadata": {},
   "outputs": [],
   "source": [
    "X_train, X_val, y_train, y_val = train_test_split(X.copy(), y.copy(),\n",
    "                                                                 shuffle = True,\n",
    "                                                                 random_state = 321,\n",
    "                                                                 test_size=.25)"
   ]
  },
  {
   "cell_type": "code",
   "execution_count": 246,
   "metadata": {},
   "outputs": [],
   "source": [
    "model = RandomForestRegressor(n_estimators=100, random_state=0)"
   ]
  },
  {
   "cell_type": "code",
   "execution_count": 247,
   "metadata": {},
   "outputs": [
    {
     "data": {
      "text/html": [
       "<style>#sk-container-id-15 {color: black;}#sk-container-id-15 pre{padding: 0;}#sk-container-id-15 div.sk-toggleable {background-color: white;}#sk-container-id-15 label.sk-toggleable__label {cursor: pointer;display: block;width: 100%;margin-bottom: 0;padding: 0.3em;box-sizing: border-box;text-align: center;}#sk-container-id-15 label.sk-toggleable__label-arrow:before {content: \"▸\";float: left;margin-right: 0.25em;color: #696969;}#sk-container-id-15 label.sk-toggleable__label-arrow:hover:before {color: black;}#sk-container-id-15 div.sk-estimator:hover label.sk-toggleable__label-arrow:before {color: black;}#sk-container-id-15 div.sk-toggleable__content {max-height: 0;max-width: 0;overflow: hidden;text-align: left;background-color: #f0f8ff;}#sk-container-id-15 div.sk-toggleable__content pre {margin: 0.2em;color: black;border-radius: 0.25em;background-color: #f0f8ff;}#sk-container-id-15 input.sk-toggleable__control:checked~div.sk-toggleable__content {max-height: 200px;max-width: 100%;overflow: auto;}#sk-container-id-15 input.sk-toggleable__control:checked~label.sk-toggleable__label-arrow:before {content: \"▾\";}#sk-container-id-15 div.sk-estimator input.sk-toggleable__control:checked~label.sk-toggleable__label {background-color: #d4ebff;}#sk-container-id-15 div.sk-label input.sk-toggleable__control:checked~label.sk-toggleable__label {background-color: #d4ebff;}#sk-container-id-15 input.sk-hidden--visually {border: 0;clip: rect(1px 1px 1px 1px);clip: rect(1px, 1px, 1px, 1px);height: 1px;margin: -1px;overflow: hidden;padding: 0;position: absolute;width: 1px;}#sk-container-id-15 div.sk-estimator {font-family: monospace;background-color: #f0f8ff;border: 1px dotted black;border-radius: 0.25em;box-sizing: border-box;margin-bottom: 0.5em;}#sk-container-id-15 div.sk-estimator:hover {background-color: #d4ebff;}#sk-container-id-15 div.sk-parallel-item::after {content: \"\";width: 100%;border-bottom: 1px solid gray;flex-grow: 1;}#sk-container-id-15 div.sk-label:hover label.sk-toggleable__label {background-color: #d4ebff;}#sk-container-id-15 div.sk-serial::before {content: \"\";position: absolute;border-left: 1px solid gray;box-sizing: border-box;top: 0;bottom: 0;left: 50%;z-index: 0;}#sk-container-id-15 div.sk-serial {display: flex;flex-direction: column;align-items: center;background-color: white;padding-right: 0.2em;padding-left: 0.2em;position: relative;}#sk-container-id-15 div.sk-item {position: relative;z-index: 1;}#sk-container-id-15 div.sk-parallel {display: flex;align-items: stretch;justify-content: center;background-color: white;position: relative;}#sk-container-id-15 div.sk-item::before, #sk-container-id-15 div.sk-parallel-item::before {content: \"\";position: absolute;border-left: 1px solid gray;box-sizing: border-box;top: 0;bottom: 0;left: 50%;z-index: -1;}#sk-container-id-15 div.sk-parallel-item {display: flex;flex-direction: column;z-index: 1;position: relative;background-color: white;}#sk-container-id-15 div.sk-parallel-item:first-child::after {align-self: flex-end;width: 50%;}#sk-container-id-15 div.sk-parallel-item:last-child::after {align-self: flex-start;width: 50%;}#sk-container-id-15 div.sk-parallel-item:only-child::after {width: 0;}#sk-container-id-15 div.sk-dashed-wrapped {border: 1px dashed gray;margin: 0 0.4em 0.5em 0.4em;box-sizing: border-box;padding-bottom: 0.4em;background-color: white;}#sk-container-id-15 div.sk-label label {font-family: monospace;font-weight: bold;display: inline-block;line-height: 1.2em;}#sk-container-id-15 div.sk-label-container {text-align: center;}#sk-container-id-15 div.sk-container {/* jupyter's `normalize.less` sets `[hidden] { display: none; }` but bootstrap.min.css set `[hidden] { display: none !important; }` so we also need the `!important` here to be able to override the default hidden behavior on the sphinx rendered scikit-learn.org. See: https://github.com/scikit-learn/scikit-learn/issues/21755 */display: inline-block !important;position: relative;}#sk-container-id-15 div.sk-text-repr-fallback {display: none;}</style><div id=\"sk-container-id-15\" class=\"sk-top-container\"><div class=\"sk-text-repr-fallback\"><pre>RandomForestRegressor(random_state=0)</pre><b>In a Jupyter environment, please rerun this cell to show the HTML representation or trust the notebook. <br />On GitHub, the HTML representation is unable to render, please try loading this page with nbviewer.org.</b></div><div class=\"sk-container\" hidden><div class=\"sk-item\"><div class=\"sk-estimator sk-toggleable\"><input class=\"sk-toggleable__control sk-hidden--visually\" id=\"sk-estimator-id-15\" type=\"checkbox\" checked><label for=\"sk-estimator-id-15\" class=\"sk-toggleable__label sk-toggleable__label-arrow\">RandomForestRegressor</label><div class=\"sk-toggleable__content\"><pre>RandomForestRegressor(random_state=0)</pre></div></div></div></div></div>"
      ],
      "text/plain": [
       "RandomForestRegressor(random_state=0)"
      ]
     },
     "execution_count": 247,
     "metadata": {},
     "output_type": "execute_result"
    }
   ],
   "source": [
    "model.fit(X_train,y_train)"
   ]
  },
  {
   "cell_type": "code",
   "execution_count": 248,
   "metadata": {},
   "outputs": [],
   "source": [
    "A = model.predict(X_val)"
   ]
  },
  {
   "cell_type": "code",
   "execution_count": 249,
   "metadata": {},
   "outputs": [
    {
     "data": {
      "text/plain": [
       "0.003751433787679264"
      ]
     },
     "execution_count": 249,
     "metadata": {},
     "output_type": "execute_result"
    }
   ],
   "source": [
    "mean_squared_error(y_val,A)"
   ]
  },
  {
   "cell_type": "code",
   "execution_count": 250,
   "metadata": {},
   "outputs": [],
   "source": [
    "import xgboost\n",
    "\n",
    "xgb_reg = xgboost.XGBRegressor(n_estimators=200,\n",
    "                          max_depth=10,\n",
    "                          learning_rate=.1, enable_categorical=True)\n",
    "\n",
    "\n",
    "xgb_reg.fit(X_train, y_train)\n",
    "\n",
    "B = xgb_reg.predict(X_val)"
   ]
  },
  {
   "cell_type": "code",
   "execution_count": 251,
   "metadata": {},
   "outputs": [
    {
     "data": {
      "text/plain": [
       "0.00443971197917987"
      ]
     },
     "execution_count": 251,
     "metadata": {},
     "output_type": "execute_result"
    }
   ],
   "source": [
    "mean_squared_error(y_val,B)"
   ]
  },
  {
   "cell_type": "code",
   "execution_count": 253,
   "metadata": {},
   "outputs": [],
   "source": [
    "from sklearn.linear_model import LinearRegression\n",
    "\n",
    "lm = LinearRegression()\n",
    "\n",
    "lm.fit(X_train,y_train)\n",
    "\n",
    "D= lm.predict(X_val)"
   ]
  },
  {
   "cell_type": "code",
   "execution_count": 254,
   "metadata": {},
   "outputs": [
    {
     "data": {
      "text/plain": [
       "0.0036695842840911617"
      ]
     },
     "execution_count": 254,
     "metadata": {},
     "output_type": "execute_result"
    }
   ],
   "source": [
    "mean_squared_error(y_val,D)"
   ]
  },
  {
   "cell_type": "code",
   "execution_count": 267,
   "metadata": {},
   "outputs": [
    {
     "data": {
      "text/plain": [
       "array([-1.99177746e-04,  7.91297020e-02,  2.79584118e-01,  4.69868722e-02,\n",
       "        1.06434044e-01,  1.68269040e-01,  1.28457354e-01,  8.26114791e-02,\n",
       "        1.34236457e-02,  1.54037076e-02, -5.01802744e-03, -1.58028947e-02,\n",
       "        2.83224763e-02, -9.97266343e-03,  1.90118686e-02,  1.01679497e-02,\n",
       "        1.81651069e-01,  2.60241152e-03,  1.90892410e-02,  2.01917920e-02,\n",
       "        1.80121801e-01, -1.14209913e-02,  2.75139075e-02,  2.34693056e-02,\n",
       "       -2.01472957e-02,  2.79517830e-01,  1.28988990e-01,  3.10324362e-02,\n",
       "        2.83016489e-01,  4.09989293e-02,  2.24047047e-02,  1.66196752e-02,\n",
       "        3.78858688e-02,  4.60453725e-03, -8.85339446e-02,  3.21107205e-02,\n",
       "        2.93502886e-02,  9.40118200e-02,  4.15995397e-03,  6.57030382e-03,\n",
       "        1.41253437e-02,  3.15208671e-03,  3.72851811e-02,  6.57586920e-02,\n",
       "        4.69882152e-02,  2.35764620e-02,  6.47024265e-03,  3.34287084e-02,\n",
       "        1.08588773e-02,  1.92067958e-02,  4.03882869e-02,  6.24320138e-02,\n",
       "        8.89013830e-02, -1.24652509e-03,  1.40211971e-01, -1.03982130e-03,\n",
       "        1.85849695e-01,  1.73274481e-01,  1.74432830e-01,  1.61450429e-01,\n",
       "        8.30083699e-03,  1.79973303e-02,  1.20015138e-02, -1.42277765e-02,\n",
       "        2.48676587e-03,  3.80062439e-03,  1.26839301e-02,  1.09023750e-02,\n",
       "        8.29535080e-03, -1.50736369e-02, -3.31593742e-02, -5.35445646e-03,\n",
       "        7.02305837e-03, -9.32350854e-02, -1.22852235e-02, -3.26224971e-02,\n",
       "        2.88869636e-03,  1.11304053e-02, -1.02010858e-02,  5.45362702e-02,\n",
       "       -2.33827705e-02, -2.17526211e-03, -1.50243566e-02, -6.91134153e-02,\n",
       "       -1.04997328e-02, -1.06044872e-02,  9.06962567e-03, -1.72061451e-02,\n",
       "       -9.18698717e-03,  3.11471112e-02, -2.03337680e-02, -2.81764589e-04,\n",
       "       -1.10498952e-03, -9.28552740e-03,  1.55789419e-03,  5.51009579e-02,\n",
       "        1.75925040e-03,  7.07402431e-03,  1.48208426e-03,  2.05266659e-02,\n",
       "       -2.76637775e-02,  7.75153761e-03, -3.88540747e-02,  1.00281580e-02,\n",
       "        2.70836739e-02,  1.96236572e-02,  3.52416280e-02, -5.61063142e-03,\n",
       "        2.72508307e-02, -5.79521116e-02, -2.34694867e-01, -2.43508517e-02,\n",
       "        1.25431853e-02,  1.95296476e-02,  2.07549649e-03,  5.83198789e-03,\n",
       "        1.32617216e-02,  1.21654873e-02, -1.01035725e-02, -4.79527811e-02,\n",
       "        2.94650348e-02, -1.39652723e-02,  5.67391078e-04,  6.35698223e-03,\n",
       "       -1.50216347e-02, -2.74591229e-02, -1.38767326e-02, -9.94744064e-03,\n",
       "        1.62286395e-01,  1.24030005e+00,  1.42048550e+00,  1.34873987e+00,\n",
       "        1.22535460e+00,  1.22816999e+00,  1.19487558e+00,  1.25052695e+00,\n",
       "       -1.35324342e-02, -1.01903526e-01,  2.52815691e-02, -2.42725496e-02,\n",
       "       -5.77966911e-02, -2.83286850e-02,  3.59514516e-02,  1.46895919e-03,\n",
       "       -2.68084163e-02, -1.16155653e-02,  3.44841323e-02, -2.63224144e-02,\n",
       "       -2.78660633e-02, -1.77017383e-02,  4.44334908e-02,  2.22143109e-02,\n",
       "       -5.57534582e-03, -2.42725496e-02,  7.24425549e-02,  2.97773183e-02,\n",
       "        6.43114255e-03,  1.01397073e-02,  1.52655666e-16,  2.83657393e-02,\n",
       "        7.59151336e-03, -2.55458102e-02,  3.74603803e-02,  3.54455442e-02,\n",
       "        2.20964964e-02,  2.84951745e-02,  3.00202203e-02,  4.36956559e-02,\n",
       "        1.62818124e-02,  2.42267681e-02,  3.44493183e-02,  6.49765215e-02,\n",
       "       -5.89165802e-02,  3.69773477e-02,  4.35965110e-02,  3.13061041e-02,\n",
       "        3.05044337e-02,  3.85165018e-02,  7.02753052e-02, -8.46012463e-03,\n",
       "        1.02171456e-02,  4.34131143e-03,  1.53344118e-02,  1.12157241e-01,\n",
       "        3.98097232e-02,  9.97891900e-02, -5.43355221e-02, -8.13515960e-04,\n",
       "        4.23558245e-03,  5.35836467e-03,  9.65828263e-03,  6.56049445e-03,\n",
       "        8.92773377e-03,  3.81224874e-03,  5.34815808e-03,  1.17430503e-03,\n",
       "        6.24924408e-03,  4.92175355e-03,  3.65314360e-02,  2.06063507e-02,\n",
       "        5.39681994e-02,  3.36000928e-03,  1.23767642e-02,  3.23344600e-02,\n",
       "        9.54752441e-03, -8.50710333e-03,  3.71562042e-02,  2.78534168e-02,\n",
       "        1.83120063e-02,  3.19248297e-02,  9.40120270e-03])"
      ]
     },
     "execution_count": 267,
     "metadata": {},
     "output_type": "execute_result"
    }
   ],
   "source": [
    "lm.coef_"
   ]
  },
  {
   "cell_type": "code",
   "execution_count": 268,
   "metadata": {},
   "outputs": [],
   "source": [
    "from sklearn.linear_model import Lasso \n",
    "\n",
    "lasso_lm = Lasso(alpha=1)\n",
    "\n",
    "lasso_lm.fit(X_train,y_train)\n",
    "\n",
    "E= lm.predict(X_val)"
   ]
  },
  {
   "cell_type": "code",
   "execution_count": 269,
   "metadata": {},
   "outputs": [
    {
     "data": {
      "text/plain": [
       "0.0036695842840911617"
      ]
     },
     "execution_count": 269,
     "metadata": {},
     "output_type": "execute_result"
    }
   ],
   "source": [
    "mean_squared_error(y_val,E)"
   ]
  },
  {
   "cell_type": "code",
   "execution_count": 270,
   "metadata": {},
   "outputs": [
    {
     "data": {
      "text/plain": [
       "array([-0.,  0.,  0.,  0.,  0.,  0., -0.,  0.,  0.,  0.,  0.,  0.,  0.,\n",
       "        0.,  0.,  0.,  0.,  0.,  0.,  0.,  0., -0.,  0.,  0.,  0.,  0.,\n",
       "        0., -0.,  0.,  0., -0.,  0.,  0.,  0., -0.,  0.,  0.,  0.,  0.,\n",
       "        0.,  0.,  0.,  0.,  0.,  0.,  0.,  0.,  0.,  0., -0.,  0.,  0.,\n",
       "        0.,  0., -0., -0.,  0., -0.,  0., -0.,  0., -0.,  0.,  0., -0.,\n",
       "        0.,  0., -0.,  0.,  0., -0., -0.,  0.,  0., -0., -0., -0.,  0.,\n",
       "        0.,  0., -0.,  0., -0., -0., -0., -0., -0.,  0.,  0.,  0., -0.,\n",
       "       -0., -0.,  0.,  0.,  0.,  0.,  0., -0.,  0.,  0.,  0., -0.,  0.,\n",
       "        0.,  0., -0.,  0.,  0.,  0.,  0., -0., -0., -0., -0., -0.,  0.,\n",
       "       -0., -0.,  0., -0.,  0., -0., -0., -0., -0.,  0.,  0.,  0., -0.,\n",
       "        0.,  0., -0., -0.,  0.,  0., -0., -0.,  0., -0.,  0., -0.,  0.,\n",
       "       -0.,  0.,  0., -0.,  0., -0., -0., -0., -0.,  0., -0.,  0., -0.,\n",
       "        0., -0.,  0.,  0.,  0., -0.,  0., -0., -0.,  0., -0.,  0., -0.,\n",
       "        0., -0., -0.,  0.,  0., -0.,  0., -0., -0., -0., -0., -0., -0.,\n",
       "        0.,  0., -0., -0.,  0.,  0.,  0., -0., -0.,  0.,  0.,  0.,  0.,\n",
       "       -0.,  0., -0.,  0.,  0., -0.,  0., -0.,  0., -0., -0., -0., -0.,\n",
       "       -0., -0.,  0.])"
      ]
     },
     "execution_count": 270,
     "metadata": {},
     "output_type": "execute_result"
    }
   ],
   "source": [
    "lasso_lm.coef_"
   ]
  },
  {
   "cell_type": "code",
   "execution_count": null,
   "metadata": {},
   "outputs": [],
   "source": []
  }
 ],
 "metadata": {
  "kernelspec": {
   "display_name": "base",
   "language": "python",
   "name": "python3"
  },
  "language_info": {
   "codemirror_mode": {
    "name": "ipython",
    "version": 3
   },
   "file_extension": ".py",
   "mimetype": "text/x-python",
   "name": "python",
   "nbconvert_exporter": "python",
   "pygments_lexer": "ipython3",
   "version": "3.11.5"
  }
 },
 "nbformat": 4,
 "nbformat_minor": 2
}
