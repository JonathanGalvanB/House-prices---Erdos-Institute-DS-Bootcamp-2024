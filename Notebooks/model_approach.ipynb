{
 "cells": [
  {
   "cell_type": "markdown",
   "metadata": {},
   "source": [
    "## Model Approach"
   ]
  },
  {
   "cell_type": "markdown",
   "metadata": {},
   "source": [
    "### ARIMA - Autoregressive Integrated Moving Average\n",
    "- Predicts future values based on past values\n",
    "\n",
    "ARIMA models are typically used to predict future prices, so we decided to try this model to see if our data will fit well. It is also used for forecasting time series and has the flexibility to capture various types of patterns and behaviors in the data.\n",
    "\n",
    "A disadvantage of using the ARIMA model is that it is a linear model and cannot handle nonlinear relationships such as sudden shocks or regime changes.\n",
    "\n",
    "Evaluation metrics that are typically used with this model is evaluating the AIC/BIC. These values are used to compare 2 different models together, possibly after even more feature selection.\n",
    "\n",
    "Other evaluation metrics that can be used are mean absolute error, mean squared error, and root mean squared error."
   ]
  },
  {
   "cell_type": "markdown",
   "metadata": {},
   "source": []
  }
 ],
 "metadata": {
  "kernelspec": {
   "display_name": "base",
   "language": "python",
   "name": "python3"
  },
  "language_info": {
   "codemirror_mode": {
    "name": "ipython",
    "version": 3
   },
   "file_extension": ".py",
   "mimetype": "text/x-python",
   "name": "python",
   "nbconvert_exporter": "python",
   "pygments_lexer": "ipython3",
   "version": "3.11.5"
  }
 },
 "nbformat": 4,
 "nbformat_minor": 2
}
